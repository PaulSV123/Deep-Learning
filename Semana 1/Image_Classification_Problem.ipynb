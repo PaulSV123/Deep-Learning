{
  "nbformat": 4,
  "nbformat_minor": 0,
  "metadata": {
    "colab": {
      "provenance": []
    },
    "kernelspec": {
      "name": "python3",
      "display_name": "Python 3"
    },
    "language_info": {
      "name": "python"
    }
  },
  "cells": [
    {
      "cell_type": "code",
      "execution_count": 1,
      "metadata": {
        "colab": {
          "base_uri": "https://localhost:8080/"
        },
        "id": "6KSVb7fVA3nO",
        "outputId": "ed19b235-34e4-4921-bd4a-24c602aed334"
      },
      "outputs": [
        {
          "output_type": "stream",
          "name": "stdout",
          "text": [
            "Downloading data from https://www.cs.toronto.edu/~kriz/cifar-10-python.tar.gz\n",
            "\u001b[1m170498071/170498071\u001b[0m \u001b[32m━━━━━━━━━━━━━━━━━━━━\u001b[0m\u001b[37m\u001b[0m \u001b[1m2s\u001b[0m 0us/step\n",
            "k = 1, validation accuracy: 0.2650\n",
            "k = 3, validation accuracy: 0.2290\n",
            "k = 5, validation accuracy: 0.2450\n",
            "k = 10, validation accuracy: 0.2360\n",
            "k = 20, validation accuracy: 0.2410\n",
            "k = 50, validation accuracy: 0.2340\n",
            "k = 100, validation accuracy: 0.2410\n",
            "\n",
            "Mejor k encontrado: 1\n",
            "Test accuracy: 0.2521\n"
          ]
        }
      ],
      "source": [
        "import numpy as np\n",
        "import matplotlib.pyplot as plt\n",
        "from keras.datasets import cifar10\n",
        "\n",
        "# ------------------------------\n",
        "# Clase k-NN con distancia L2\n",
        "# ------------------------------\n",
        "class NearestNeighborL2:\n",
        "    def __init__(self):\n",
        "        pass\n",
        "\n",
        "    def train(self, X, y):\n",
        "        self.Xtr = X\n",
        "        self.ytr = y\n",
        "\n",
        "    def predict(self, X, k=1):\n",
        "        num_test = X.shape[0]\n",
        "        Ypred = np.zeros(num_test, dtype=self.ytr.dtype)\n",
        "\n",
        "        for i in range(num_test):\n",
        "            distances = np.sqrt(np.sum(np.square(self.Xtr - X[i, :]), axis=1))\n",
        "            min_indices = np.argsort(distances)[:k]\n",
        "            closest_y = self.ytr[min_indices]\n",
        "            counts = np.bincount(closest_y)\n",
        "            Ypred[i] = np.argmax(counts)\n",
        "        return Ypred\n",
        "\n",
        "# ------------------------------\n",
        "# Cargar datos desde keras\n",
        "# ------------------------------\n",
        "(Xtr, Ytr), (Xte, Yte) = cifar10.load_data()\n",
        "Ytr = Ytr.flatten()\n",
        "Yte = Yte.flatten()\n",
        "\n",
        "# Aplanar imágenes\n",
        "Xtr_rows = Xtr.reshape(Xtr.shape[0], -1)  # 50000 x 3072\n",
        "Xte_rows = Xte.reshape(Xte.shape[0], -1)  # 10000 x 3072\n",
        "\n",
        "# Separar conjunto de validación\n",
        "Xval_rows = Xtr_rows[:1000, :]\n",
        "Yval = Ytr[:1000]\n",
        "Xtr_rows = Xtr_rows[1000:, :]\n",
        "Ytr = Ytr[1000:]\n",
        "\n",
        "# ------------------------------\n",
        "# Búsqueda del mejor k\n",
        "# ------------------------------\n",
        "validation_accuracies = []\n",
        "for k in [1, 3, 5, 10, 20, 50, 100]:\n",
        "    nn = NearestNeighborL2()\n",
        "    nn.train(Xtr_rows, Ytr)\n",
        "    Yval_predict = nn.predict(Xval_rows, k=k)\n",
        "    acc = np.mean(Yval_predict == Yval)\n",
        "    print(f'k = {k}, validation accuracy: {acc:.4f}')\n",
        "    validation_accuracies.append((k, acc))\n",
        "\n",
        "# Elegir mejor k\n",
        "best_k = max(validation_accuracies, key=lambda x: x[1])[0]\n",
        "print(f'\\nMejor k encontrado: {best_k}')\n",
        "\n",
        "# Evaluar en conjunto de prueba\n",
        "nn = NearestNeighborL2()\n",
        "nn.train(Xtr_rows, Ytr)\n",
        "Yte_predict = nn.predict(Xte_rows, k=best_k)\n",
        "print(f'Test accuracy: {np.mean(Yte_predict == Yte):.4f}')"
      ]
    }
  ]
}