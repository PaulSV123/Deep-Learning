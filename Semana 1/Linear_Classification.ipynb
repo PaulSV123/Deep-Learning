{
  "nbformat": 4,
  "nbformat_minor": 0,
  "metadata": {
    "colab": {
      "provenance": []
    },
    "kernelspec": {
      "name": "python3",
      "display_name": "Python 3"
    },
    "language_info": {
      "name": "python"
    }
  },
  "cells": [
    {
      "cell_type": "code",
      "execution_count": 41,
      "metadata": {
        "id": "5DtleUae1NDV"
      },
      "outputs": [],
      "source": [
        "import numpy as np\n",
        "import keras\n",
        "\n",
        "# Cargar CIFAR-10 desde keras\n",
        "(Xtr, Ytr), (Xte, Yte) = keras.datasets.cifar10.load_data()\n",
        "Ytr = Ytr.flatten()\n",
        "Yte = Yte.flatten()\n",
        "\n",
        "# Preprocesamiento: aplanar y agregar bias\n",
        "Xtr_flat = Xtr.reshape(Xtr.shape[0], -1)\n",
        "Xtr_bias = np.hstack([Xtr_flat, np.ones((Xtr_flat.shape[0], 1))])\n",
        "X = Xtr_bias.T  # 3073 x 50000\n",
        "y = Ytr  # ya aplanado\n",
        "\n",
        "# Inicialización de pesos\n",
        "np.random.seed(0)\n",
        "W = 0.001 * np.random.randn(10, X.shape[0])"
      ]
    },
    {
      "cell_type": "code",
      "source": [
        "def L_i(x, y, W):\n",
        "    delta = 1.0\n",
        "    scores = W.dot(x)\n",
        "    correct_class_score = scores[y]\n",
        "    D = W.shape[0]\n",
        "    loss_i = 0.0\n",
        "    for j in range(D):\n",
        "        if j == y:\n",
        "            continue\n",
        "        loss_i += max(0, scores[j] - correct_class_score + delta)\n",
        "    return loss_i\n",
        "\n",
        "def L_i_vectorized(x, y, W):\n",
        "    delta = 1.0\n",
        "    scores = W.dot(x)\n",
        "    margins = np.maximum(0, scores - scores[y] + delta)\n",
        "    margins[y] = 0\n",
        "    return np.sum(margins)\n",
        "\n",
        "def L(X, y, W):\n",
        "    delta = 1.0\n",
        "    scores = W.dot(X)  # shape: (10, N)\n",
        "    correct_scores = scores[y, np.arange(X.shape[1])]  # shape: (N,)\n",
        "    margins = np.maximum(0, scores - correct_scores + delta)\n",
        "    margins[y, np.arange(X.shape[1])] = 0\n",
        "    return np.sum(margins)"
      ],
      "metadata": {
        "id": "2keJ9w4q1QSq"
      },
      "execution_count": 42,
      "outputs": []
    },
    {
      "cell_type": "code",
      "source": [
        "# Ejemplo con un solo dato (no vectorizado)\n",
        "i = 0\n",
        "x_i = X[:, i]\n",
        "y_i = y[i]\n",
        "loss1 = L_i(x_i, y_i, W)\n",
        "loss2 = L_i_vectorized(x_i, y_i, W)\n",
        "\n",
        "print(f\"L_i: {loss1:.4f}\")\n",
        "print(f\"L_i_vectorized: {loss2:.4f}\")\n",
        "\n",
        "# Versión completamente vectorizada\n",
        "total_loss = L(X[:, :1000], y[:1000], W)\n",
        "print(f\"Total vectorized loss (1000 examples): {total_loss:.4f}\")"
      ],
      "metadata": {
        "colab": {
          "base_uri": "https://localhost:8080/"
        },
        "id": "8XN-dZfF1S9p",
        "outputId": "9f2927fd-9731-4131-9582-179132aff3d3"
      },
      "execution_count": 43,
      "outputs": [
        {
          "output_type": "stream",
          "name": "stdout",
          "text": [
            "L_i: 12.3610\n",
            "L_i_vectorized: 12.3610\n",
            "Total vectorized loss (1000 examples): 53188.5249\n"
          ]
        }
      ]
    },
    {
      "cell_type": "code",
      "source": [
        "# Problema numérico: grandes exponentes\n",
        "f = np.array([123, 456, 789])\n",
        "p_bad = np.exp(f) / np.sum(np.exp(f))  # puede dar overflow\n",
        "\n",
        "# Solución: restar el máximo\n",
        "f_stable = f - np.max(f)\n",
        "p_good = np.exp(f_stable) / np.sum(np.exp(f_stable))\n",
        "print(\"Softmax estable:\", p_good)"
      ],
      "metadata": {
        "colab": {
          "base_uri": "https://localhost:8080/"
        },
        "id": "bZDanxbQ1Yw_",
        "outputId": "c91522e7-0fbe-4574-81e2-7421dc17b1f7"
      },
      "execution_count": 44,
      "outputs": [
        {
          "output_type": "stream",
          "name": "stdout",
          "text": [
            "Softmax estable: [5.75274406e-290 2.39848787e-145 1.00000000e+000]\n"
          ]
        },
        {
          "output_type": "stream",
          "name": "stderr",
          "text": [
            "/tmp/ipython-input-44-2256235293.py:3: RuntimeWarning: overflow encountered in exp\n",
            "  p_bad = np.exp(f) / np.sum(np.exp(f))  # puede dar overflow\n",
            "/tmp/ipython-input-44-2256235293.py:3: RuntimeWarning: invalid value encountered in divide\n",
            "  p_bad = np.exp(f) / np.sum(np.exp(f))  # puede dar overflow\n"
          ]
        }
      ]
    }
  ]
}